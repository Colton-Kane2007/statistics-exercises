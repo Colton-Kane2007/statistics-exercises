{
 "cells": [
  {
   "cell_type": "code",
   "execution_count": 2,
   "metadata": {},
   "outputs": [],
   "source": [
    "import numpy as np"
   ]
  },
  {
   "cell_type": "code",
   "execution_count": 15,
   "metadata": {},
   "outputs": [
    {
     "data": {
      "text/plain": [
       "0.2785"
      ]
     },
     "execution_count": 15,
     "metadata": {},
     "output_type": "execute_result"
    }
   ],
   "source": [
    "# How likely is it that you roll doubles when rolling two dice?\n",
    "n_trials = 2\n",
    "n_simulations = 10000\n",
    "outcome = [1,2,3,4,5,6]\n",
    "ten_k_rolls = np.random.choice(outcome, (n_simulations, n_trials))\n",
    "((ten_k_rolls == 1).sum(axis=1) ==1).sum() / 10000"
   ]
  },
  {
   "cell_type": "code",
   "execution_count": 18,
   "metadata": {},
   "outputs": [
    {
     "data": {
      "text/plain": [
       "0.2182"
      ]
     },
     "execution_count": 18,
     "metadata": {},
     "output_type": "execute_result"
    }
   ],
   "source": [
    "# If you flip 8 coins, what is the probability of getting exactly 3 heads? \n",
    "n_trials = 8\n",
    "n_simulations = 10000\n",
    "outcome = ['H','T']\n",
    "ten_k_flips = np.random.choice(outcome, (n_simulations, n_trials))\n",
    "((ten_k_flips == 'H').sum(axis=1) ==3).sum() / 10000"
   ]
  },
  {
   "cell_type": "code",
   "execution_count": 19,
   "metadata": {},
   "outputs": [
    {
     "data": {
      "text/plain": [
       "0.6307"
      ]
     },
     "execution_count": 19,
     "metadata": {},
     "output_type": "execute_result"
    }
   ],
   "source": [
    "# What is the probability of getting more than 3 heads?\n",
    "((ten_k_flips == 'H').sum(axis=1) >3).sum() / 10000"
   ]
  },
  {
   "cell_type": "code",
   "execution_count": 22,
   "metadata": {},
   "outputs": [
    {
     "data": {
      "text/plain": [
       "0.0634"
      ]
     },
     "execution_count": 22,
     "metadata": {},
     "output_type": "execute_result"
    }
   ],
   "source": [
    "# There are approximitely 3 web development cohorts for every 1 data science cohort at Codeup. \n",
    "# Assuming that Codeup randomly selects an alumni to put on a billboard, \n",
    "# what are the odds that the two billboards I drive past both have data science students on them?\n",
    "n_trials = 2\n",
    "n_simulations = 10000\n",
    "outcome = ['w','w','w','d']\n",
    "two_billboards = np.random.choice(outcome, (n_simulations, n_trials))\n",
    "((two_billboards == 'd').sum(axis=1) ==2).sum() / 10000\n",
    "\n"
   ]
  },
  {
   "cell_type": "code",
   "execution_count": 57,
   "metadata": {},
   "outputs": [
    {
     "data": {
      "text/plain": [
       "4.8906"
      ]
     },
     "execution_count": 57,
     "metadata": {},
     "output_type": "execute_result"
    }
   ],
   "source": [
    "# Codeup students buy, on average, 3 poptart packages with a standard deviation of 1.5 a day from the snack vending machine. \n",
    "# If on monday the machine is restocked with 17 poptart packages, how likely is it that I will be able to buy some poptarts on Friday afternoon? \n",
    "# (Remember, if you have mean and standard deviation, use the np.random.normal) You'll need to make a judgement call on how to handle some of your values\n",
    "n_trials = 5\n",
    "mean = 3\n",
    "std = 1.5\n",
    "n_simulations = 10000\n",
    "\n",
    "poptarts = np.random.normal(mean, std, (n_simulations, n_trials))\n",
    "(poptarts >0).sum() / 10000\n",
    "\n"
   ]
  },
  {
   "cell_type": "code",
   "execution_count": 58,
   "metadata": {},
   "outputs": [
    {
     "data": {
      "text/plain": [
       "0.4993"
      ]
     },
     "execution_count": 58,
     "metadata": {},
     "output_type": "execute_result"
    }
   ],
   "source": [
    "# Compare Heights\n",
    "# Men have an average height of 178 cm and standard deviation of 8cm.\n",
    "# Women have a mean of 170, sd = 6cm.\n",
    "# Since you have means and standard deviations, you can use np.random.normal to generate observations.\n",
    "# If a man and woman are chosen at random, what is the likelihood the woman is taller than the man?\n",
    "n_trials = 1\n",
    "m_mean = 178\n",
    "m_std = 8\n",
    "\n",
    "w_mean = 170\n",
    "w_std = 6\n",
    "n_simulations = 10000\n",
    "\n",
    "men_heights = np.random.normal(mean, std, (n_simulations, n_trials))\n",
    "women_heights = np.random.normal(mean, std, (n_simulations, n_trials))\n",
    "\n",
    "((women_heights >men_heights).sum() / 10000)\n"
   ]
  },
  {
   "cell_type": "code",
   "execution_count": 105,
   "metadata": {},
   "outputs": [
    {
     "data": {
      "text/plain": [
       "0.8229"
      ]
     },
     "execution_count": 105,
     "metadata": {},
     "output_type": "execute_result"
    }
   ],
   "source": [
    "# When installing anaconda on a student's computer, there's a 1 in 250 chance that the download is corrupted and the installation fails.\n",
    "#  What are the odds that after having 50 students download anaconda, no one has an installation issue?\n",
    "outcome = ['corrupted', 'not']\n",
    "n_simulations = 10000\n",
    "n_trials = 50\n",
    "anaconda = np.random.choice(outcome, size=(n_simulations, n_trials), p=[.996,.004])\n",
    "((anaconda == 'not').sum(axis=1) ==0).sum() / 10000"
   ]
  },
  {
   "cell_type": "code",
   "execution_count": 107,
   "metadata": {},
   "outputs": [
    {
     "data": {
      "text/plain": [
       "0.6621"
      ]
     },
     "execution_count": 107,
     "metadata": {},
     "output_type": "execute_result"
    }
   ],
   "source": [
    "# 100 students?\n",
    "outcome = ['corrupted', 'not']\n",
    "n_simulations = 10000\n",
    "n_trials = 100\n",
    "anaconda = np.random.choice(outcome, size=(n_simulations, n_trials), p=[.996,.004])\n",
    "((anaconda == 'not').sum(axis=1) ==0).sum() / 10000"
   ]
  },
  {
   "cell_type": "code",
   "execution_count": 108,
   "metadata": {},
   "outputs": [
    {
     "data": {
      "text/plain": [
       "0.328"
      ]
     },
     "execution_count": 108,
     "metadata": {},
     "output_type": "execute_result"
    }
   ],
   "source": [
    "# What is the probability that we observe an installation issue within the first 150 students that download anaconda?\n",
    "outcome = ['corrupted', 'not']\n",
    "n_simulations = 10000\n",
    "n_trials = 150\n",
    "anaconda = np.random.choice(outcome, size=(n_simulations, n_trials), p=[.996,.004])\n",
    "((anaconda == 'not').sum(axis=1) ==1).sum() / 10000"
   ]
  },
  {
   "cell_type": "code",
   "execution_count": 109,
   "metadata": {},
   "outputs": [
    {
     "data": {
      "text/plain": [
       "0.1593"
      ]
     },
     "execution_count": 109,
     "metadata": {},
     "output_type": "execute_result"
    }
   ],
   "source": [
    "# How likely is it that 450 students all download anaconda without an issue?\n",
    "outcome = ['corrupted', 'not']\n",
    "n_simulations = 10000\n",
    "n_trials = 450\n",
    "anaconda = np.random.choice(outcome, size=(n_simulations, n_trials), p=[.996,.004])\n",
    "((anaconda == 'not').sum(axis=1) ==0).sum() / 10000"
   ]
  },
  {
   "cell_type": "code",
   "execution_count": 112,
   "metadata": {},
   "outputs": [
    {
     "data": {
      "text/plain": [
       "0.0248"
      ]
     },
     "execution_count": 112,
     "metadata": {},
     "output_type": "execute_result"
    }
   ],
   "source": [
    "# There's a 70% chance on any given day that there will be at least one food truck at Travis Park. \n",
    "# However, you haven't seen a food truck there in 3 days. How unlikely is this?\n",
    "outcome = ['truck', 'not']\n",
    "n_simulations = 10000\n",
    "n_trials = 3\n",
    "foodtruck = np.random.choice(outcome, size=(n_simulations, n_trials), p=[.7,.3])\n",
    "((foodtruck == 'not').sum(axis=1) ==3).sum() / 10000\n"
   ]
  },
  {
   "cell_type": "code",
   "execution_count": 114,
   "metadata": {},
   "outputs": [
    {
     "data": {
      "text/plain": [
       "0.0808"
      ]
     },
     "execution_count": 114,
     "metadata": {},
     "output_type": "execute_result"
    }
   ],
   "source": [
    "# How likely is it that a food truck will show up sometime this week?\n",
    "outcome = ['truck', 'not']\n",
    "n_simulations = 10000\n",
    "n_trials = 7\n",
    "foodtruck = np.random.choice(outcome, size=(n_simulations, n_trials), p=[.7,.3])\n",
    "((foodtruck == 'not').sum(axis=1) ==0).sum() / 10000\n"
   ]
  },
  {
   "cell_type": "code",
   "execution_count": 120,
   "metadata": {},
   "outputs": [
    {
     "data": {
      "text/plain": [
       "0.001"
      ]
     },
     "execution_count": 120,
     "metadata": {},
     "output_type": "execute_result"
    }
   ],
   "source": [
    "# If 23 people are in the same room, what are the odds that two of them share a birthday? What if it's 20 people? 40?\n",
    "outcome = ['share', 'not']\n",
    "n_simulations = 10000\n",
    "n_trials = 23\n",
    "birthday = np.random.choice(outcome, size=(n_simulations, n_trials), p=[.998,.002])\n",
    "((birthday == 'not').sum(axis=1) ==2).sum() / 10000\n",
    "\n"
   ]
  },
  {
   "cell_type": "code",
   "execution_count": 121,
   "metadata": {},
   "outputs": [
    {
     "data": {
      "text/plain": [
       "0.0011"
      ]
     },
     "execution_count": 121,
     "metadata": {},
     "output_type": "execute_result"
    }
   ],
   "source": [
    "outcome = ['share', 'not']\n",
    "n_simulations = 10000\n",
    "n_trials = 20\n",
    "birthday = np.random.choice(outcome, size=(n_simulations, n_trials), p=[.998,.002])\n",
    "((birthday == 'not').sum(axis=1) ==2).sum() / 10000\n",
    "\n"
   ]
  },
  {
   "cell_type": "code",
   "execution_count": 122,
   "metadata": {},
   "outputs": [
    {
     "data": {
      "text/plain": [
       "0.0027"
      ]
     },
     "execution_count": 122,
     "metadata": {},
     "output_type": "execute_result"
    }
   ],
   "source": [
    "outcome = ['share', 'not']\n",
    "n_simulations = 10000\n",
    "n_trials = 40\n",
    "birthday = np.random.choice(outcome, size=(n_simulations, n_trials), p=[.998,.002])\n",
    "((birthday == 'not').sum(axis=1) ==2).sum() / 10000\n",
    "\n"
   ]
  },
  {
   "cell_type": "code",
   "execution_count": null,
   "metadata": {},
   "outputs": [],
   "source": []
  }
 ],
 "metadata": {
  "kernelspec": {
   "display_name": "base",
   "language": "python",
   "name": "python3"
  },
  "language_info": {
   "codemirror_mode": {
    "name": "ipython",
    "version": 3
   },
   "file_extension": ".py",
   "mimetype": "text/x-python",
   "name": "python",
   "nbconvert_exporter": "python",
   "pygments_lexer": "ipython3",
   "version": "3.11.3"
  },
  "orig_nbformat": 4
 },
 "nbformat": 4,
 "nbformat_minor": 2
}
